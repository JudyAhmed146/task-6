{
  "nbformat": 4,
  "nbformat_minor": 0,
  "metadata": {
    "colab": {
      "provenance": []
    },
    "kernelspec": {
      "name": "python3",
      "display_name": "Python 3"
    },
    "language_info": {
      "name": "python"
    }
  },
  "cells": [
    {
      "cell_type": "code",
      "execution_count": 8,
      "metadata": {
        "colab": {
          "base_uri": "https://localhost:8080/"
        },
        "id": "XZMvfS2lLZa3",
        "outputId": "06dd8f94-faec-4762-a428-105ce3e3c604"
      },
      "outputs": [
        {
          "output_type": "stream",
          "name": "stdout",
          "text": [
            "[15 24 33 42 51]\n",
            "[ 5 16 27 38 49]\n",
            "[50 80 90 80 50]\n",
            "[ 2.  5. 10. 20. 50.]\n"
          ]
        }
      ],
      "source": [
        "import numpy as np\n",
        "A=np.array([10, 20, 30, 40, 50])\n",
        "B=np.array([5, 4, 3, 2 , 1])\n",
        "print(A+B)\n",
        "print(A-B)\n",
        "print(A*B)\n",
        "print(A/B)"
      ]
    },
    {
      "cell_type": "code",
      "source": [
        "print(A.min())\n",
        "print(A.max())\n",
        "print(A.mean())"
      ],
      "metadata": {
        "colab": {
          "base_uri": "https://localhost:8080/"
        },
        "id": "I2EvzR-kRBQg",
        "outputId": "14688782-09bf-401c-d24e-d941b4503a0f"
      },
      "execution_count": 9,
      "outputs": [
        {
          "output_type": "stream",
          "name": "stdout",
          "text": [
            "10\n",
            "50\n",
            "30.0\n"
          ]
        }
      ]
    },
    {
      "cell_type": "code",
      "source": [
        "dot_product_of_A=(np.dot(A,A))\n",
        "print(dot_product_of_A)\n",
        "dot_product_of_B=(np.dot(B,B))\n",
        "print(dot_product_of_B)\n"
      ],
      "metadata": {
        "colab": {
          "base_uri": "https://localhost:8080/"
        },
        "id": "dFC8SQSWSWq4",
        "outputId": "436cc50e-44a1-4b1a-bfe4-cbc80996ff21"
      },
      "execution_count": 11,
      "outputs": [
        {
          "output_type": "stream",
          "name": "stdout",
          "text": [
            "5500\n",
            "55\n"
          ]
        }
      ]
    },
    {
      "cell_type": "code",
      "source": [
        "reshape_A=np.reshape(A,(5,1))\n",
        "print(reshape_A)"
      ],
      "metadata": {
        "colab": {
          "base_uri": "https://localhost:8080/"
        },
        "id": "uL0LKUrkU_r3",
        "outputId": "7bb481aa-3c14-4816-9c95-c6b73c9498f9"
      },
      "execution_count": 12,
      "outputs": [
        {
          "output_type": "stream",
          "name": "stdout",
          "text": [
            "[[10]\n",
            " [20]\n",
            " [30]\n",
            " [40]\n",
            " [50]]\n"
          ]
        }
      ]
    }
  ]
}